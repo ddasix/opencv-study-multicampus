{
  "cells": [
    {
      "cell_type": "markdown",
      "metadata": {
        "id": "0YAs_rFnRXTy"
      },
      "source": [
        "**Python3 OpenCV4 start guide.**  \n",
        "https://farrokhkarimi.github.io/"
      ]
    },
    {
      "cell_type": "markdown",
      "metadata": {
        "id": "Q6FmBTc_RcTk"
      },
      "source": [
        "# Installation"
      ]
    },
    {
      "cell_type": "markdown",
      "metadata": {
        "id": "QbG6EQTLRhrE"
      },
      "source": [
        "There are many ways to install OpenCV including installing from the source, installing via pip, and installing via apt. The best way to install OpenCV is using pip. You must have pip installed. You should run the command via CMD or Terminal (It may need to be run as an administrator):\n",
        "\n",
        "```\n",
        "pip3 install opencv-python\n",
        "```\n",
        "\n",
        "Also, you can use apt in Ubuntu:\n",
        "\n",
        "```\n",
        "sudo apt-get install python3-opencv\n",
        "```\n",
        "\n",
        "You also need to install numpy to use OpenCV:\n",
        "\n",
        "```\n",
        "pip3 install numpy\n",
        "```\n",
        "\n",
        "These packages are installed in Colab. Now you can import cv2 and print its version:"
      ]
    },
    {
      "cell_type": "code",
      "execution_count": null,
      "metadata": {
        "colab": {
          "base_uri": "https://localhost:8080/"
        },
        "id": "_XN90n0VepkJ",
        "outputId": "9b28c66f-71c3-46c4-b6fd-73d8208444a7"
      },
      "outputs": [],
      "source": [
        "import numpy as np\n",
        "import cv2\n",
        "print(\"OpenCV-Python Version {}\".format(cv2.__version__))"
      ]
    },
    {
      "cell_type": "markdown",
      "metadata": {
        "id": "KB9P6zVAfxMz"
      },
      "source": [
        "Note that we can use skimage alongside OpenCV. Skimage is another good pythonic library for image processing. You can install skimage via pip:\n",
        "\n",
        "```\n",
        "pip3 install scikit-image\n",
        "```"
      ]
    },
    {
      "cell_type": "markdown",
      "metadata": {
        "id": "Kqufzu_4wboK"
      },
      "source": [
        "# Getting Started with Images"
      ]
    },
    {
      "cell_type": "code",
      "execution_count": null,
      "metadata": {
        "colab": {
          "base_uri": "https://localhost:8080/",
          "height": 269
        },
        "id": "V9OzTMt4Xnck",
        "outputId": "b8ce9982-8c14-46c2-c9e1-c3e6dbf77164"
      },
      "outputs": [],
      "source": [
        "from skimage import io\n",
        "import matplotlib.pyplot as plt\n",
        "\n",
        "# reading the sample image from a url\n",
        "image = io.imread('https://farrokhkarimi.github.io/images/gallery/modals/ice-m.jpg')\n",
        "plt.imshow(image)\n",
        "plt.show()"
      ]
    },
    {
      "cell_type": "code",
      "execution_count": null,
      "metadata": {
        "colab": {
          "base_uri": "https://localhost:8080/",
          "height": 269
        },
        "id": "JmMW4aQwibgT",
        "outputId": "327b9057-6664-43f1-8adb-c3ef47def9b8"
      },
      "outputs": [],
      "source": [
        "# saving the image on the disk\n",
        "io.imsave('image.jpg', image)\n",
        "\n",
        "# loading the image from the disk\n",
        "image = cv2.imread('image.jpg')\n",
        "\n",
        "plt.imshow(image)\n",
        "plt.show()"
      ]
    },
    {
      "cell_type": "code",
      "execution_count": null,
      "metadata": {
        "colab": {
          "base_uri": "https://localhost:8080/",
          "height": 287
        },
        "id": "QdWCgDt4ywui",
        "outputId": "6f4fa598-8223-49e3-cde2-948096e08cbf"
      },
      "outputs": [],
      "source": [
        "# plt.imshow(img) shown an image with wrong colorspace. we should correct the colorspace\n",
        "image = cv2.cvtColor(image, cv2.COLOR_BGR2RGB)\n",
        "plt.imshow(image)"
      ]
    },
    {
      "cell_type": "code",
      "execution_count": null,
      "metadata": {
        "colab": {
          "base_uri": "https://localhost:8080/"
        },
        "id": "LZDz5kFM00Uj",
        "outputId": "3b42f6d4-6481-4a85-96ee-edcb7ec6a1ea"
      },
      "outputs": [],
      "source": [
        "# listing the folders and files in the current directory using unix command\n",
        "!ls"
      ]
    },
    {
      "cell_type": "markdown",
      "metadata": {
        "id": "vXm_vt99q28d"
      },
      "source": [
        "# Getting Started with Videos"
      ]
    },
    {
      "cell_type": "markdown",
      "metadata": {
        "id": "LtNYcfujq7jX"
      },
      "source": [
        "Ref: https://docs.opencv.org/4.x/dd/d43/tutorial_py_video_display.html"
      ]
    },
    {
      "cell_type": "markdown",
      "metadata": {
        "id": "TuRzdWryrA9D"
      },
      "source": [
        "You can't open the webcam using OpenCV in Colab but you can use a Colab snippet to read the webcam:"
      ]
    },
    {
      "cell_type": "code",
      "execution_count": null,
      "metadata": {
        "id": "NAyki6FykRSF"
      },
      "outputs": [],
      "source": [
        "from IPython.display import display, Javascript\n",
        "from google.colab.output import eval_js\n",
        "from base64 import b64decode\n",
        "\n",
        "def take_photo(filename='photo.jpg', quality=0.8):\n",
        "  js = Javascript('''\n",
        "    async function takePhoto(quality) {\n",
        "      const div = document.createElement('div');\n",
        "      const capture = document.createElement('button');\n",
        "      capture.textContent = 'Capture';\n",
        "      div.appendChild(capture);\n",
        "\n",
        "      const video = document.createElement('video');\n",
        "      video.style.display = 'block';\n",
        "      const stream = await navigator.mediaDevices.getUserMedia({video: true});\n",
        "\n",
        "      document.body.appendChild(div);\n",
        "      div.appendChild(video);\n",
        "      video.srcObject = stream;\n",
        "      await video.play();\n",
        "\n",
        "      // Resize the output to fit the video element.\n",
        "      google.colab.output.setIframeHeight(document.documentElement.scrollHeight, true);\n",
        "\n",
        "      // Wait for Capture to be clicked.\n",
        "      await new Promise((resolve) => capture.onclick = resolve);\n",
        "\n",
        "      const canvas = document.createElement('canvas');\n",
        "      canvas.width = video.videoWidth;\n",
        "      canvas.height = video.videoHeight;\n",
        "      canvas.getContext('2d').drawImage(video, 0, 0);\n",
        "      stream.getVideoTracks()[0].stop();\n",
        "      div.remove();\n",
        "      return canvas.toDataURL('image/jpeg', quality);\n",
        "    }\n",
        "    ''')\n",
        "  display(js)\n",
        "  data = eval_js('takePhoto({})'.format(quality))\n",
        "  binary = b64decode(data.split(',')[1])\n",
        "  with open(filename, 'wb') as f:\n",
        "    f.write(binary)\n",
        "  return filename"
      ]
    },
    {
      "cell_type": "code",
      "execution_count": null,
      "metadata": {
        "colab": {
          "base_uri": "https://localhost:8080/"
        },
        "id": "q7I0NT4XkRST",
        "outputId": "882f3092-5670-470b-891a-47e0bd8d0fe5"
      },
      "outputs": [],
      "source": [
        "from IPython.display import Image\n",
        "try:\n",
        "  filename = take_photo()\n",
        "  print('Saved to {}'.format(filename))\n",
        "  # Show the image which was just taken.\n",
        "  display(Image(filename))\n",
        "except Exception as err:\n",
        "  # Errors will be thrown if the user does not have a webcam or if they do not\n",
        "  # grant the page permission to access it.\n",
        "  print(str(err))"
      ]
    },
    {
      "cell_type": "markdown",
      "metadata": {
        "id": "FALP2A8y2Ech"
      },
      "source": [
        "# Drawing Functions in OpenCV"
      ]
    },
    {
      "cell_type": "code",
      "execution_count": null,
      "metadata": {
        "id": "PJvcju652IPo"
      },
      "outputs": [],
      "source": [
        "# Create a black image\n",
        "img = np.zeros((512,512,3), np.uint8)"
      ]
    },
    {
      "cell_type": "code",
      "execution_count": null,
      "metadata": {
        "id": "Fi-_BpO92Mmq"
      },
      "outputs": [],
      "source": [
        "# Draw a diagonal blue line with thickness of 5 px\n",
        "img = cv2.line(img,(0,0),(511,511),(255,0,0),5)\n",
        "\n",
        "# Drawing Rectangle\n",
        "img = cv2.rectangle(img,(384,0),(510,128),(0,255,0),3)\n",
        "\n",
        "# Drawing Circle\n",
        "img = cv2.circle(img,(447,63), 63, (0,0,255), -1)\n",
        "\n",
        "# Drawing Ellipse\n",
        "img = cv2.ellipse(img,(256,256),(100,50),0,0,180,255,-1)\n",
        "\n",
        "# Drawing Polygon\n",
        "pts = np.array([[10,5],[20,30],[70,20],[50,10]], np.int32)\n",
        "pts = pts.reshape((-1,1,2))\n",
        "img = cv2.polylines(img,[pts],True,(0,255,255))"
      ]
    },
    {
      "cell_type": "code",
      "execution_count": null,
      "metadata": {
        "id": "xytNo7bx2pGi"
      },
      "outputs": [],
      "source": [
        "# Adding Text to Images\n",
        "font = cv2.FONT_HERSHEY_SIMPLEX\n",
        "cv2.putText(img,'OpenCV',(10,500), font, 4,(255,255,255),2,cv2.LINE_AA);"
      ]
    },
    {
      "cell_type": "code",
      "execution_count": null,
      "metadata": {
        "colab": {
          "base_uri": "https://localhost:8080/",
          "height": 287
        },
        "id": "Lq-pAXEL20Lw",
        "outputId": "98a681f9-9e27-4aa1-c4e6-edc9b26af746"
      },
      "outputs": [],
      "source": [
        "plt.imshow(cv2.cvtColor(img, cv2.COLOR_BGR2RGB))"
      ]
    },
    {
      "cell_type": "markdown",
      "metadata": {
        "id": "pxmSKYjgvX_W"
      },
      "source": [
        "# Mouse as a Paint-Brush"
      ]
    },
    {
      "cell_type": "markdown",
      "metadata": {
        "id": "amJTbj1CvZn-"
      },
      "source": [
        "Ref: https://docs.opencv.org/4.x/db/d5b/tutorial_py_mouse_handling.html"
      ]
    },
    {
      "cell_type": "markdown",
      "metadata": {
        "id": "NdKrr56kvmoR"
      },
      "source": [
        "# Trackbar as the Color Palette"
      ]
    },
    {
      "cell_type": "markdown",
      "metadata": {
        "id": "Gd3MOyp_vpK4"
      },
      "source": [
        "Ref: https://docs.opencv.org/4.x/d9/dc8/tutorial_py_trackbar.html"
      ]
    },
    {
      "cell_type": "markdown",
      "metadata": {
        "id": "ecGFF21XwFID"
      },
      "source": [
        "Here we will create a simple application which shows the color you specify. You have a window which shows the color and three trackbars to specify each of B,G,R colors. You slide the trackbar and correspondingly window color changes. By default, initial color will be set to Black."
      ]
    },
    {
      "cell_type": "markdown",
      "metadata": {
        "id": "5o_S_jS03AGQ"
      },
      "source": [
        "# Basic Operations on Images"
      ]
    },
    {
      "cell_type": "code",
      "execution_count": null,
      "metadata": {
        "colab": {
          "base_uri": "https://localhost:8080/",
          "height": 261
        },
        "id": "jzCJsIF8ySUy",
        "outputId": "e252d29d-b8c6-4ca4-92f9-37e3d83e6dd4"
      },
      "outputs": [],
      "source": [
        "messi5 = io.imread('https://github.com/opencv/opencv/blob/master/samples/data/messi5.jpg?raw=true')\n",
        "messi = messi5.copy()\n",
        "plt.imshow(messi)\n",
        "plt.show()"
      ]
    },
    {
      "cell_type": "code",
      "execution_count": null,
      "metadata": {
        "colab": {
          "base_uri": "https://localhost:8080/"
        },
        "id": "4VKlU3kx3B-u",
        "outputId": "35536d39-b042-43ff-ad66-510ba2748c0c"
      },
      "outputs": [],
      "source": [
        "# accessing and modifying pixel values\n",
        "px = img[100,100]\n",
        "print(px)\n",
        "messi[100,100] = [255,255,255]\n",
        "print(img[100,100])"
      ]
    },
    {
      "cell_type": "code",
      "execution_count": null,
      "metadata": {
        "colab": {
          "base_uri": "https://localhost:8080/",
          "height": 279
        },
        "id": "rjQJ8tzJ4_pA",
        "outputId": "5c079c58-2a67-4974-b1f4-e03b2f70ca49"
      },
      "outputs": [],
      "source": [
        "# changing pixel values\n",
        "for i in range(5):\n",
        "    for j in range(5):\n",
        "        messi[50+i, 235+j] = (0, 255, 0)\n",
        "\n",
        "plt.imshow(messi)"
      ]
    },
    {
      "cell_type": "code",
      "execution_count": null,
      "metadata": {
        "colab": {
          "base_uri": "https://localhost:8080/"
        },
        "id": "XREZTSPN4c0N",
        "outputId": "cc37f174-e319-45be-b924-e59b057ddd6d"
      },
      "outputs": [],
      "source": [
        "# accessing image properties\n",
        "print(messi.shape)\n",
        "print(messi.size)\n",
        "print(messi.dtype)"
      ]
    },
    {
      "cell_type": "code",
      "execution_count": null,
      "metadata": {
        "colab": {
          "base_uri": "https://localhost:8080/",
          "height": 279
        },
        "id": "eJU8EZ235OBB",
        "outputId": "b271b066-28c7-41a5-ac7d-320db1bf7079"
      },
      "outputs": [],
      "source": [
        "# image ROI\n",
        "ball = messi[280:340, 330:390]\n",
        "messi[273:333, 100:160] = ball\n",
        "\n",
        "plt.imshow(messi)"
      ]
    },
    {
      "cell_type": "code",
      "execution_count": null,
      "metadata": {
        "colab": {
          "base_uri": "https://localhost:8080/"
        },
        "id": "b9Hhwao25wB3",
        "outputId": "80bb06f8-abd9-4e06-94ef-be5f6b80ef7d"
      },
      "outputs": [],
      "source": [
        "# splitting and merging image channels\n",
        "b,g,r = cv2.split(messi)\n",
        "messi = cv2.merge((b,g,r))\n",
        "\n",
        "print(r)"
      ]
    },
    {
      "cell_type": "code",
      "execution_count": null,
      "metadata": {
        "colab": {
          "base_uri": "https://localhost:8080/",
          "height": 279
        },
        "id": "pfgeXsKT6BcC",
        "outputId": "fac0d9f3-f291-46da-b749-6927b8f3221c"
      },
      "outputs": [],
      "source": [
        "# set all the red pixles to zero using numpy indexing\n",
        "messi[:,:,2] = 0\n",
        "\n",
        "plt.imshow(messi)"
      ]
    },
    {
      "cell_type": "code",
      "execution_count": null,
      "metadata": {
        "colab": {
          "base_uri": "https://localhost:8080/",
          "height": 227
        },
        "id": "CRLwZ6lz6O56",
        "outputId": "e1a33a52-4f55-4e96-b6cf-b518efd01437"
      },
      "outputs": [],
      "source": [
        "# making borders for images (padding)\n",
        "img = io.imread('https://www.google.com/images/branding/googlelogo/1x/googlelogo_color_272x92dp.png')\n",
        "\n",
        "replicate = cv2.copyMakeBorder(img,10,10,10,10,cv2.BORDER_REPLICATE)\n",
        "reflect = cv2.copyMakeBorder(img,10,10,10,10,cv2.BORDER_REFLECT)\n",
        "reflect101 = cv2.copyMakeBorder(img,10,10,10,10,cv2.BORDER_REFLECT_101)\n",
        "wrap = cv2.copyMakeBorder(img,10,10,10,10,cv2.BORDER_WRAP)\n",
        "constant= cv2.copyMakeBorder(img,50,50,50,50,cv2.BORDER_CONSTANT,value=[255,255,255])\n",
        "\n",
        "plt.subplot(231),plt.imshow(img),plt.title('ORIGINAL')\n",
        "plt.subplot(232),plt.imshow(replicate),plt.title('REPLICATE')\n",
        "plt.subplot(233),plt.imshow(reflect),plt.title('REFLECT')\n",
        "plt.subplot(234),plt.imshow(reflect101),plt.title('REFLECT_101')\n",
        "plt.subplot(235),plt.imshow(wrap),plt.title('WRAP')\n",
        "plt.subplot(236),plt.imshow(constant),plt.title('CONSTANT')\n",
        "\n",
        "plt.show()"
      ]
    },
    {
      "cell_type": "code",
      "execution_count": null,
      "metadata": {
        "colab": {
          "base_uri": "https://localhost:8080/",
          "height": 287
        },
        "id": "UCS3pUgS9Bhj",
        "outputId": "fa4a286c-86d0-4e6e-881c-64270e736c28"
      },
      "outputs": [],
      "source": [
        "# image addition\n",
        "img1 = io.imread('https://github.com/opencv/opencv/blob/master/samples/data/ml.png?raw=true')\n",
        "img2 = cv2.flip(img1, 1)\n",
        "\n",
        "dst = cv2.addWeighted(img1,0.7,img2,0.3,0)\n",
        "\n",
        "plt.imshow(dst)"
      ]
    },
    {
      "cell_type": "markdown",
      "metadata": {
        "id": "R2fPoawrf-n-"
      },
      "source": [
        "# Geometric Transformations of Images"
      ]
    },
    {
      "cell_type": "code",
      "execution_count": null,
      "metadata": {
        "colab": {
          "base_uri": "https://localhost:8080/",
          "height": 261
        },
        "id": "pjnYliqnAxp1",
        "outputId": "35d4ffc1-3318-406b-c3bf-66362e281bb2"
      },
      "outputs": [],
      "source": [
        "messi = messi5.copy()\n",
        "plt.imshow(messi)\n",
        "plt.show()"
      ]
    },
    {
      "cell_type": "code",
      "execution_count": null,
      "metadata": {
        "colab": {
          "base_uri": "https://localhost:8080/",
          "height": 279
        },
        "id": "SCuPfL1sLgvU",
        "outputId": "1b8acc53-7d61-43a6-b50d-0bc26eb988f8"
      },
      "outputs": [],
      "source": [
        "# Scaling\n",
        "res = cv2.resize(messi,None,fx=2, fy=2, interpolation = cv2.INTER_CUBIC)\n",
        "plt.imshow(res)"
      ]
    },
    {
      "cell_type": "code",
      "execution_count": null,
      "metadata": {
        "id": "KdZOvU-LC2P0"
      },
      "outputs": [],
      "source": [
        "rows,cols,ch = messi.shape"
      ]
    },
    {
      "cell_type": "code",
      "execution_count": null,
      "metadata": {
        "colab": {
          "base_uri": "https://localhost:8080/",
          "height": 279
        },
        "id": "mGGr8h5VCgu2",
        "outputId": "ed6c3d46-72ea-42e2-f56a-4c88a2a459f4"
      },
      "outputs": [],
      "source": [
        "# Translation\n",
        "M = np.float32([[1,0,100],[0,1,50]])\n",
        "dst = cv2.warpAffine(messi,M,(cols,rows))\n",
        "\n",
        "plt.imshow(dst)"
      ]
    },
    {
      "cell_type": "code",
      "execution_count": null,
      "metadata": {
        "colab": {
          "base_uri": "https://localhost:8080/",
          "height": 279
        },
        "id": "c5jjDOuVdbcr",
        "outputId": "75f143eb-9592-4fc4-aa24-3cf9dec01df7"
      },
      "outputs": [],
      "source": [
        "# Rotation\n",
        "M = cv2.getRotationMatrix2D((cols/2,rows/2),90,1)\n",
        "dst = cv2.warpAffine(messi,M,(cols,rows))\n",
        "\n",
        "plt.imshow(dst)"
      ]
    },
    {
      "cell_type": "code",
      "execution_count": null,
      "metadata": {
        "colab": {
          "base_uri": "https://localhost:8080/",
          "height": 217
        },
        "id": "YH9btUfgDgqV",
        "outputId": "e192d0fc-29ee-4699-c6aa-abf760d75d96"
      },
      "outputs": [],
      "source": [
        "# Perspective Transformation\n",
        "img = io.imread('https://github.com/opencv/opencv/blob/master/samples/data/sudoku.png?raw=true')\n",
        "rows,cols,ch = img.shape\n",
        "pts1 = np.float32([[73,86],[489,69],[36,514],[520,522]])\n",
        "pts2 = np.float32([[0,0],[300,0],[0,300],[300,300]])\n",
        "M = cv2.getPerspectiveTransform(pts1,pts2)\n",
        "dst = cv2.warpPerspective(img,M,(300,300))\n",
        "plt.subplot(121),plt.imshow(img),plt.title('Input')\n",
        "plt.subplot(122),plt.imshow(dst),plt.title('Output')\n",
        "plt.show()"
      ]
    },
    {
      "cell_type": "markdown",
      "metadata": {
        "id": "BFGiapMNDl96"
      },
      "source": [
        "# Image Thresholding"
      ]
    },
    {
      "cell_type": "code",
      "execution_count": null,
      "metadata": {
        "colab": {
          "base_uri": "https://localhost:8080/",
          "height": 267
        },
        "id": "SD53P3A0DoGR",
        "outputId": "dea1ac1a-3dfc-45b8-d0eb-803a89211654"
      },
      "outputs": [],
      "source": [
        "# Simple Thresholding\n",
        "img = io.imread('https://github.com/opencv/opencv/blob/master/samples/data/gradient.png?raw=true')\n",
        "ret,thresh1 = cv2.threshold(img,127,255,cv2.THRESH_BINARY)\n",
        "ret,thresh2 = cv2.threshold(img,127,255,cv2.THRESH_BINARY_INV)\n",
        "ret,thresh3 = cv2.threshold(img,127,255,cv2.THRESH_TRUNC)\n",
        "ret,thresh4 = cv2.threshold(img,127,255,cv2.THRESH_TOZERO)\n",
        "ret,thresh5 = cv2.threshold(img,127,255,cv2.THRESH_TOZERO_INV)\n",
        "\n",
        "titles = ['Original Image','BINARY','BINARY_INV','TRUNC','TOZERO','TOZERO_INV']\n",
        "images = [img, thresh1, thresh2, thresh3, thresh4, thresh5]\n",
        "\n",
        "for i in range(6):\n",
        "    plt.subplot(2,3,i+1)\n",
        "    plt.imshow(images[i],'gray')\n",
        "    plt.title(titles[i])\n",
        "    plt.xticks([]),plt.yticks([])\n",
        "\n",
        "plt.show()"
      ]
    },
    {
      "cell_type": "code",
      "execution_count": null,
      "metadata": {
        "colab": {
          "base_uri": "https://localhost:8080/",
          "height": 268
        },
        "id": "LGmxB8SLGJWU",
        "outputId": "d5a46266-6eee-4b46-dbdf-1a211afdfea8"
      },
      "outputs": [],
      "source": [
        "# Adaptive Thresholding\n",
        "img = io.imread('https://github.com/opencv/opencv/blob/master/samples/data/sudoku.png?raw=true')\n",
        "img = cv2.cvtColor(img, cv2.COLOR_RGB2GRAY)\n",
        "img = cv2.medianBlur(img,5)\n",
        "\n",
        "ret,th1 = cv2.threshold(img,127,255,cv2.THRESH_BINARY)\n",
        "th2 = cv2.adaptiveThreshold(img,255,cv2.ADAPTIVE_THRESH_MEAN_C,\\\n",
        "            cv2.THRESH_BINARY,11,2)\n",
        "th3 = cv2.adaptiveThreshold(img,255,cv2.ADAPTIVE_THRESH_GAUSSIAN_C,\\\n",
        "            cv2.THRESH_BINARY,11,2)\n",
        "\n",
        "titles = ['Original Image', 'Global Thresholding (v = 127)',\n",
        "            'Adaptive Mean Thresholding', 'Adaptive Gaussian Thresholding']\n",
        "images = [img, th1, th2, th3]\n",
        "\n",
        "for i in range(4):\n",
        "    plt.subplot(2,2,i+1),plt.imshow(images[i],'gray')\n",
        "    plt.title(titles[i])\n",
        "    plt.xticks([]),plt.yticks([])\n",
        "plt.show()"
      ]
    },
    {
      "cell_type": "markdown",
      "metadata": {
        "id": "6QP5wAmCi71f"
      },
      "source": [
        "# Smoothing Images"
      ]
    },
    {
      "cell_type": "markdown",
      "metadata": {
        "id": "gU7ft_HBIKf2"
      },
      "source": [
        "Ref: https://docs.opencv.org/4.x/d4/d13/tutorial_py_filtering.html"
      ]
    },
    {
      "cell_type": "code",
      "execution_count": null,
      "metadata": {
        "colab": {
          "base_uri": "https://localhost:8080/",
          "height": 252
        },
        "id": "RWS4fGuPg_Oo",
        "outputId": "0949eb38-7cb3-42ff-f235-7716c04dec97"
      },
      "outputs": [],
      "source": [
        "# 2D Convolution ( Image Filtering )\n",
        "img = io.imread('https://github.com/opencv/opencv/blob/master/samples/data/opencv-logo.png?raw=true')\n",
        "\n",
        "kernel = np.ones((7,7),np.float32)/49\n",
        "dst = cv2.filter2D(img,-1,kernel)\n",
        "\n",
        "plt.subplot(121),plt.imshow(img),plt.title('Original')\n",
        "plt.xticks([]), plt.yticks([])\n",
        "plt.subplot(122),plt.imshow(dst),plt.title('Averaging')\n",
        "plt.xticks([]), plt.yticks([])\n",
        "plt.show()"
      ]
    },
    {
      "cell_type": "code",
      "execution_count": null,
      "metadata": {
        "colab": {
          "base_uri": "https://localhost:8080/",
          "height": 252
        },
        "id": "IoTS80XXltwX",
        "outputId": "0c961390-b56c-484e-ec11-d2971d1ca828"
      },
      "outputs": [],
      "source": [
        "# Image Blurring (Image Smoothing)\n",
        "blur = cv2.blur(img,(9,9))\n",
        "\n",
        "plt.subplot(121),plt.imshow(img),plt.title('Original')\n",
        "plt.xticks([]), plt.yticks([])\n",
        "plt.subplot(122),plt.imshow(blur),plt.title('Blurred')\n",
        "plt.xticks([]), plt.yticks([])\n",
        "plt.show()"
      ]
    },
    {
      "cell_type": "markdown",
      "metadata": {
        "id": "gcDg-0ucl6GF"
      },
      "source": [
        "You can use the other kernels to smoothing your image:\n",
        "\n",
        "```python\n",
        "# Gaussian Filtering\n",
        "blur = cv2.GaussianBlur(img,(5,5),0)\n",
        "\n",
        "# Median Filtering (highly effective in removing salt-and-pepper noise)\n",
        "median = cv2.medianBlur(img,5)\n",
        "\n",
        "# Bilateral Filtering\n",
        "blur = cv2.bilateralFilter(img,9,75,75)\n",
        "```"
      ]
    },
    {
      "cell_type": "markdown",
      "metadata": {
        "id": "ugJkZHNrqW5m"
      },
      "source": [
        "# Edge Detection"
      ]
    },
    {
      "cell_type": "markdown",
      "metadata": {
        "id": "b2Qa0VMwMCU3"
      },
      "source": [
        "Ref: https://docs.opencv.org/4.x/da/d22/tutorial_py_canny.html"
      ]
    },
    {
      "cell_type": "code",
      "execution_count": null,
      "metadata": {
        "colab": {
          "base_uri": "https://localhost:8080/",
          "height": 145
        },
        "id": "twbwFwQ_pi4V",
        "outputId": "9a49ef11-4140-41f3-b3de-8a694c80bd9b"
      },
      "outputs": [],
      "source": [
        "# Canny Edge Detection\n",
        "\n",
        "edges = cv2.Canny(messi,100,200)\n",
        "\n",
        "plt.subplot(121),plt.imshow(messi,cmap = 'gray')\n",
        "plt.title('Original Image'), plt.xticks([]), plt.yticks([])\n",
        "plt.subplot(122),plt.imshow(edges,cmap = 'gray')\n",
        "plt.title('Edge Image'), plt.xticks([]), plt.yticks([])\n",
        "\n",
        "plt.show()"
      ]
    },
    {
      "cell_type": "markdown",
      "metadata": {
        "id": "dGmPv-ErsgQn"
      },
      "source": [
        "# Contours"
      ]
    },
    {
      "cell_type": "markdown",
      "metadata": {
        "id": "i2lh_X8gN_1Q"
      },
      "source": [
        "Ref: https://docs.opencv.org/4.x/d3/d05/tutorial_py_table_of_contents_contours.html"
      ]
    },
    {
      "cell_type": "code",
      "execution_count": null,
      "metadata": {
        "id": "TkztYISWMq5R"
      },
      "outputs": [],
      "source": [
        "# finding contours\n",
        "imgray = cv2.cvtColor(img,cv2.COLOR_RGB2GRAY)\n",
        "ret,thresh = cv2.threshold(imgray,127,255,0)\n",
        "contours, hierarchy = cv2.findContours(thresh,cv2.RETR_TREE,cv2.CHAIN_APPROX_SIMPLE)"
      ]
    },
    {
      "cell_type": "code",
      "execution_count": null,
      "metadata": {
        "colab": {
          "base_uri": "https://localhost:8080/",
          "height": 287
        },
        "id": "AmEI8JaENAC1",
        "outputId": "789de351-6e95-40b1-d460-b994ae1458c4"
      },
      "outputs": [],
      "source": [
        "# drawing contours\n",
        "img2 = img.copy()\n",
        "cv2.drawContours(img2, contours, -1, (0,255,0), 3)\n",
        "\n",
        "plt.imshow(img2)"
      ]
    },
    {
      "cell_type": "markdown",
      "metadata": {
        "id": "FrFsjNkvyTjo"
      },
      "source": [
        "# Fourier Transform\n",
        "\n"
      ]
    },
    {
      "cell_type": "markdown",
      "metadata": {
        "id": "bPfgP5nETNkP"
      },
      "source": [
        "Ref: https://docs.opencv.org/4.x/de/dbc/tutorial_py_fourier_transform.html"
      ]
    },
    {
      "cell_type": "markdown",
      "metadata": {
        "id": "IDYqRYRezSHO"
      },
      "source": [
        "Why Laplacian is a High Pass Filter?"
      ]
    },
    {
      "cell_type": "code",
      "execution_count": null,
      "metadata": {
        "colab": {
          "base_uri": "https://localhost:8080/",
          "height": 267
        },
        "id": "Z-9zbUzMzZ46",
        "outputId": "5864c1fb-a546-478d-bf1d-7b232f678fe0"
      },
      "outputs": [],
      "source": [
        "# simple averaging filter without scaling parameter\n",
        "# 이미지 주변 픽셀값을 평균내어 노이즈 제거에 주로 사용\n",
        "mean_filter = np.ones((3,3))\n",
        "\n",
        "# creating a guassian filter\n",
        "# 이미지를 부드럽게 만들어 노이즈 감소에 주로 사용\n",
        "x = cv2.getGaussianKernel(5,10)\n",
        "gaussian = x*x.T\n",
        "\n",
        "# different edge detecting filters\n",
        "# scharr in x-direction\n",
        "# sobel 과 유사하지만 민감도가 더 높은 편\n",
        "# 민감한 엣지 검출 시 사용\n",
        "scharr = np.array([[-3, 0, 3],\n",
        "                   [-10,0,10],\n",
        "                   [-3, 0, 3]])\n",
        "# sobel in x direction\n",
        "# 이미지에서 수평 방향의 변화 검출\n",
        "# 엣지 검출 시 사용\n",
        "sobel_x= np.array([[-1, 0, 1],\n",
        "                   [-2, 0, 2],\n",
        "                   [-1, 0, 1]])\n",
        "# sobel in y direction\n",
        "# 이미지에서 수직 방향의 변화 검출\n",
        "# 엣지 검출 시 사용\n",
        "sobel_y= np.array([[-1,-2,-1],\n",
        "                   [0, 0, 0],\n",
        "                   [1, 2, 1]])\n",
        "# laplacian\n",
        "# 이미지 경계를 강조할 때 사용\n",
        "# 엣지 검출 시 사용\n",
        "laplacian=np.array([[0, 1, 0],\n",
        "                    [1,-4, 1],\n",
        "                    [0, 1, 0]])\n",
        "\n",
        "filters = [mean_filter, gaussian, laplacian, sobel_x, sobel_y, scharr]\n",
        "filter_name = ['mean_filter', 'gaussian','laplacian', 'sobel_x', \\\n",
        "                'sobel_y', 'scharr_x']\n",
        "fft_filters = [np.fft.fft2(x) for x in filters]\n",
        "fft_shift = [np.fft.fftshift(y) for y in fft_filters]\n",
        "mag_spectrum = [np.log(np.abs(z)+1) for z in fft_shift]\n",
        "\n",
        "for i in range(6):\n",
        "    plt.subplot(2,3,i+1),plt.imshow(mag_spectrum[i],cmap = 'gray')\n",
        "    plt.title(filter_name[i]), plt.xticks([]), plt.yticks([])\n",
        "\n",
        "plt.show()"
      ]
    },
    {
      "cell_type": "markdown",
      "metadata": {
        "id": "rd-nPiPB1Yss"
      },
      "source": [
        "# Template Matching"
      ]
    },
    {
      "cell_type": "markdown",
      "metadata": {
        "id": "uZKV3ZWxVjW4"
      },
      "source": [
        "Ref: https://docs.opencv.org/4.x/d4/dc6/tutorial_py_template_matching.html"
      ]
    },
    {
      "cell_type": "code",
      "execution_count": null,
      "metadata": {
        "colab": {
          "base_uri": "https://localhost:8080/",
          "height": 787
        },
        "id": "r-dzZWPfVkts",
        "outputId": "ed5c80ba-b863-46e7-fe18-9f7d1514c31b"
      },
      "outputs": [],
      "source": [
        "img = io.imread('https://github.com/farrokhkarimi/OpenCV/blob/master/images/mario.jpg?raw=true')\n",
        "plt.imshow(img)\n",
        "plt.show()\n",
        "img_gray = cv2.cvtColor(img, cv2.COLOR_RGB2GRAY)\n",
        "# croping the template from the main image\n",
        "template = img[74:90,72:83]\n",
        "plt.imshow(template)\n",
        "plt.show()\n",
        "template_gray = cv2.cvtColor(template, cv2.COLOR_RGB2GRAY)\n",
        "ch, w, h = template.shape[::-1]\n",
        "res = cv2.matchTemplate(img_gray,template_gray,cv2.TM_CCOEFF_NORMED)\n",
        "threshold = 0.8\n",
        "loc = np.where( res >= threshold)\n",
        "res = img.copy()\n",
        "for pt in zip(*loc[::-1]):\n",
        "    cv2.rectangle(res, pt, (pt[0] + w, pt[1] + h), (0,0,255), 2)\n",
        "\n",
        "plt.imshow(res)"
      ]
    }
  ],
  "metadata": {
    "colab": {
      "name": "Getting Started with OpenCV",
      "provenance": []
    },
    "kernelspec": {
      "display_name": "Python 3",
      "name": "python3"
    }
  },
  "nbformat": 4,
  "nbformat_minor": 0
}
